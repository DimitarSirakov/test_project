{
 "cells": [
  {
   "cell_type": "code",
   "execution_count": 108,
   "id": "0965c754",
   "metadata": {},
   "outputs": [],
   "source": [
    "# IMPORT REQUIRED MODULES\n",
    "import pandas as pd\n",
    "import datetime"
   ]
  },
  {
   "cell_type": "code",
   "execution_count": 122,
   "id": "c986777e",
   "metadata": {},
   "outputs": [
    {
     "name": "stderr",
     "output_type": "stream",
     "text": [
      "C:\\Users\\dimak\\AppData\\Local\\Temp/ipykernel_23652/3559737466.py:2: FutureWarning: The pandas.datetime class is deprecated and will be removed from pandas in a future version. Import from datetime module instead.\n",
      "  today = pd.datetime.today().date()\n"
     ]
    }
   ],
   "source": [
    "# DEFINE VARIABLES\n",
    "today = pd.datetime.today().date()\n",
    "my_time_delta = 30"
   ]
  },
  {
   "cell_type": "code",
   "execution_count": 123,
   "id": "636a5d7d",
   "metadata": {},
   "outputs": [
    {
     "name": "stdout",
     "output_type": "stream",
     "text": [
      "customer                          int64\n",
      "posting_date             datetime64[ns]\n",
      "goods_movement_type               int64\n",
      "quantity_in_base_unit           float64\n",
      "dtype: object\n"
     ]
    },
    {
     "data": {
      "text/html": [
       "<div>\n",
       "<style scoped>\n",
       "    .dataframe tbody tr th:only-of-type {\n",
       "        vertical-align: middle;\n",
       "    }\n",
       "\n",
       "    .dataframe tbody tr th {\n",
       "        vertical-align: top;\n",
       "    }\n",
       "\n",
       "    .dataframe thead th {\n",
       "        text-align: right;\n",
       "    }\n",
       "</style>\n",
       "<table border=\"1\" class=\"dataframe\">\n",
       "  <thead>\n",
       "    <tr style=\"text-align: right;\">\n",
       "      <th></th>\n",
       "      <th>customer</th>\n",
       "      <th>posting_date</th>\n",
       "      <th>goods_movement_type</th>\n",
       "      <th>quantity_in_base_unit</th>\n",
       "    </tr>\n",
       "  </thead>\n",
       "  <tbody>\n",
       "    <tr>\n",
       "      <th>0</th>\n",
       "      <td>1000096</td>\n",
       "      <td>2022-03-14</td>\n",
       "      <td>621</td>\n",
       "      <td>24.0</td>\n",
       "    </tr>\n",
       "    <tr>\n",
       "      <th>1</th>\n",
       "      <td>1000700</td>\n",
       "      <td>2022-03-14</td>\n",
       "      <td>621</td>\n",
       "      <td>12.0</td>\n",
       "    </tr>\n",
       "    <tr>\n",
       "      <th>2</th>\n",
       "      <td>1000900</td>\n",
       "      <td>2022-03-14</td>\n",
       "      <td>621</td>\n",
       "      <td>3.0</td>\n",
       "    </tr>\n",
       "    <tr>\n",
       "      <th>3</th>\n",
       "      <td>1000900</td>\n",
       "      <td>2022-03-14</td>\n",
       "      <td>621</td>\n",
       "      <td>2.0</td>\n",
       "    </tr>\n",
       "    <tr>\n",
       "      <th>4</th>\n",
       "      <td>1000603</td>\n",
       "      <td>2022-03-14</td>\n",
       "      <td>621</td>\n",
       "      <td>3.0</td>\n",
       "    </tr>\n",
       "  </tbody>\n",
       "</table>\n",
       "</div>"
      ],
      "text/plain": [
       "   customer posting_date  goods_movement_type  quantity_in_base_unit\n",
       "0   1000096   2022-03-14                  621                   24.0\n",
       "1   1000700   2022-03-14                  621                   12.0\n",
       "2   1000900   2022-03-14                  621                    3.0\n",
       "3   1000900   2022-03-14                  621                    2.0\n",
       "4   1000603   2022-03-14                  621                    3.0"
      ]
     },
     "execution_count": 123,
     "metadata": {},
     "output_type": "execute_result"
    }
   ],
   "source": [
    "# READ SAMPLE DATA AND FIX FORMATTING\n",
    "df = pd.read_csv('sample-data-metal-cases.csv') #read csv file\n",
    "df['posting_date'] = pd.to_datetime(df['posting_date'], format=(\"%Y.%m.%d\")) #define posting_date\n",
    "\n",
    "\n",
    "\n",
    "# DESCRIBE RAW DATAFRAME\n",
    "print(df.dtypes)\n",
    "df.head()"
   ]
  },
  {
   "cell_type": "code",
   "execution_count": 124,
   "id": "770b0fc2",
   "metadata": {},
   "outputs": [
    {
     "data": {
      "text/html": [
       "<div>\n",
       "<style scoped>\n",
       "    .dataframe tbody tr th:only-of-type {\n",
       "        vertical-align: middle;\n",
       "    }\n",
       "\n",
       "    .dataframe tbody tr th {\n",
       "        vertical-align: top;\n",
       "    }\n",
       "\n",
       "    .dataframe thead th {\n",
       "        text-align: right;\n",
       "    }\n",
       "</style>\n",
       "<table border=\"1\" class=\"dataframe\">\n",
       "  <thead>\n",
       "    <tr style=\"text-align: right;\">\n",
       "      <th></th>\n",
       "      <th>customer</th>\n",
       "      <th>current_stock</th>\n",
       "    </tr>\n",
       "  </thead>\n",
       "  <tbody>\n",
       "    <tr>\n",
       "      <th>5</th>\n",
       "      <td>1000096</td>\n",
       "      <td>433.0</td>\n",
       "    </tr>\n",
       "  </tbody>\n",
       "</table>\n",
       "</div>"
      ],
      "text/plain": [
       "   customer  current_stock\n",
       "5   1000096          433.0"
      ]
     },
     "execution_count": 124,
     "metadata": {},
     "output_type": "execute_result"
    }
   ],
   "source": [
    "total_cases_customer = df[['customer', 'quantity_in_base_unit']].groupby([\"customer\"]).sum().reset_index()\n",
    "total_cases_customer = total_cases_customer.rename(columns={'quantity_in_base_unit': 'current_stock'})\n",
    "total_cases_customer[total_cases_customer['customer'] == 1000096].head(3)"
   ]
  },
  {
   "cell_type": "code",
   "execution_count": 168,
   "id": "070a84b9",
   "metadata": {},
   "outputs": [
    {
     "data": {
      "text/html": [
       "<div>\n",
       "<style scoped>\n",
       "    .dataframe tbody tr th:only-of-type {\n",
       "        vertical-align: middle;\n",
       "    }\n",
       "\n",
       "    .dataframe tbody tr th {\n",
       "        vertical-align: top;\n",
       "    }\n",
       "\n",
       "    .dataframe thead th {\n",
       "        text-align: right;\n",
       "    }\n",
       "</style>\n",
       "<table border=\"1\" class=\"dataframe\">\n",
       "  <thead>\n",
       "    <tr style=\"text-align: right;\">\n",
       "      <th></th>\n",
       "      <th>customer</th>\n",
       "      <th>less_then_30_days</th>\n",
       "    </tr>\n",
       "  </thead>\n",
       "  <tbody>\n",
       "    <tr>\n",
       "      <th>3</th>\n",
       "      <td>1000096</td>\n",
       "      <td>193.0</td>\n",
       "    </tr>\n",
       "  </tbody>\n",
       "</table>\n",
       "</div>"
      ],
      "text/plain": [
       "   customer  less_then_30_days\n",
       "3   1000096              193.0"
      ]
     },
     "execution_count": 168,
     "metadata": {},
     "output_type": "execute_result"
    }
   ],
   "source": [
    "#filter for less then 30 days\n",
    "selected_date_range = pd.date_range(today - pd.to_timedelta(my_time_delta, unit='d'), today, freq='D')\n",
    "df_selected = df[df[\"posting_date\"].isin(selected_date_range)]\n",
    "df_selected=df_selected[['customer','quantity_in_base_unit']].groupby(['customer']).sum().reset_index()\n",
    "df_selected=df_selected.rename(columns={'quantity_in_base_unit':\"less_then_30_days\"})\n",
    "df_selected[df_selected['customer'] == 1000096].head(1)\n"
   ]
  },
  {
   "cell_type": "code",
   "execution_count": null,
   "id": "a5137930",
   "metadata": {},
   "outputs": [],
   "source": []
  },
  {
   "cell_type": "code",
   "execution_count": 161,
   "id": "bd402f1d",
   "metadata": {},
   "outputs": [
    {
     "data": {
      "text/html": [
       "<div>\n",
       "<style scoped>\n",
       "    .dataframe tbody tr th:only-of-type {\n",
       "        vertical-align: middle;\n",
       "    }\n",
       "\n",
       "    .dataframe tbody tr th {\n",
       "        vertical-align: top;\n",
       "    }\n",
       "\n",
       "    .dataframe thead th {\n",
       "        text-align: right;\n",
       "    }\n",
       "</style>\n",
       "<table border=\"1\" class=\"dataframe\">\n",
       "  <thead>\n",
       "    <tr style=\"text-align: right;\">\n",
       "      <th></th>\n",
       "      <th>customer</th>\n",
       "      <th>more_then_30_days</th>\n",
       "    </tr>\n",
       "  </thead>\n",
       "  <tbody>\n",
       "    <tr>\n",
       "      <th>4</th>\n",
       "      <td>1000096</td>\n",
       "      <td>240.0</td>\n",
       "    </tr>\n",
       "  </tbody>\n",
       "</table>\n",
       "</div>"
      ],
      "text/plain": [
       "   customer  more_then_30_days\n",
       "4   1000096              240.0"
      ]
     },
     "execution_count": 161,
     "metadata": {},
     "output_type": "execute_result"
    }
   ],
   "source": [
    "#filter for more then 30 days\n",
    "selected_date_range = pd.date_range(today - pd.to_timedelta(my_time_delta, unit='d'), today, freq='D')\n",
    "df_selected_for_more = df[~df[\"posting_date\"].isin(selected_date_range)]\n",
    "df_selected_for_more=df_selected_for_more[['customer','quantity_in_base_unit']].groupby(['customer']).sum().reset_index()\n",
    "df_selected_for_more=df_selected_for_more.rename(columns={'quantity_in_base_unit':\"more_then_30_days\"})\n",
    "df_selected_for_more[df_selected_for_more['customer'] == 1000096].head(1)\n"
   ]
  },
  {
   "cell_type": "code",
   "execution_count": null,
   "id": "ef0a9a2a",
   "metadata": {},
   "outputs": [],
   "source": [
    "\n"
   ]
  },
  {
   "cell_type": "code",
   "execution_count": null,
   "id": "be2e17ab",
   "metadata": {},
   "outputs": [],
   "source": []
  }
 ],
 "metadata": {
  "kernelspec": {
   "display_name": "Python 3 (ipykernel)",
   "language": "python",
   "name": "python3"
  },
  "language_info": {
   "codemirror_mode": {
    "name": "ipython",
    "version": 3
   },
   "file_extension": ".py",
   "mimetype": "text/x-python",
   "name": "python",
   "nbconvert_exporter": "python",
   "pygments_lexer": "ipython3",
   "version": "3.9.7"
  }
 },
 "nbformat": 4,
 "nbformat_minor": 5
}
